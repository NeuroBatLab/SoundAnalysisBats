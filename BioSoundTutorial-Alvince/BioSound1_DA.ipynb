{
 "cells": [
  {
   "cell_type": "markdown",
   "metadata": {},
   "source": [
    "# BioSound Tutorial 1.  From wav files to h5 files.\n",
    "### This notebook illustrates how to generate BioSound objects from sounds stored as wav files.  BioSound contains many parameters and it is up to the user to calculate some or all.  This script calculates all the parameters.\n",
    "\n",
    "In the BioSound approach the sounds have been previously segmented into units (here as separate wav files) of interest. Here we are going to analyze different renditions of the distance calls of different zebra finches to examine the individual signature.  The sound units could also be different bird songs from different birds, or different speech vowel sounds or different musical instruments all playing the same note.  "
   ]
  },
  {
   "cell_type": "markdown",
   "metadata": {},
   "source": [
    "## Installation instructions.\n",
    "\n",
    "Before starting it is expected that\n",
    " 1. You have downloaded all the files in github/theunissenlab/BioSoundTutorial including the sound files in github/theunissenlab/BioSoundTutorial/BirdCalls.  BirdCalls has 25 renditions of Distance Calls produced by 4 different zebra finches.\n",
    " 2. You have a working version of Python and IPython to run this notebook.  The code was originally written in Python 2.7 but updated to Python 3 (3.6)\n",
    " 3. You have installed the python package soundsig: <code> pip install soundsig <code>"
   ]
  },
  {
   "cell_type": "markdown",
   "metadata": {},
   "source": [
    "## Step 1. Loading all the dependencies.  These should have been installed when you installed soundsig."
   ]
  },
  {
   "cell_type": "code",
   "execution_count": 1,
   "metadata": {},
   "outputs": [],
   "source": [
    "# Import math, plotting and sound libraries\n",
    "import numpy as np\n",
    "import matplotlib.pyplot as plt\n",
    "from soundsig.sound import BioSound \n",
    "from soundsig.sound import WavFile\n",
    "import os\n",
    "\n",
    "# Make plots on this Notebook.\n",
    "%matplotlib inline\n"
   ]
  },
  {
   "cell_type": "markdown",
   "metadata": {},
   "source": [
    "## Step 2. Specifying the location of the test sound files and where to save the output.\n",
    "### YOU WILL WANT TO CHANGE TO FOLLOWING CODE TO POINT TO THE RIGHT PLACE\n",
    "\n"
   ]
  },
  {
   "cell_type": "code",
   "execution_count": 2,
   "metadata": {},
   "outputs": [],
   "source": [
    "# Go to the folder that has the wav files\n",
    "os.chdir('/Users/tobias/Documents/BioSoundTutorial-master/BatCalls')\n",
    "\n",
    "# This will be the output directory\n",
    "if not os.path.exists('h5files'):\n",
    "    os.makedirs('h5files')\n",
    "    \n"
   ]
  },
  {
   "cell_type": "markdown",
   "metadata": {},
   "source": [
    "## Step3. Loop through all the files in the folder, make BioSound objects and plot the first two.\n",
    "\n",
    "The plotting routine in BioSound (.plot()) generates a variable number of graphs depending on what has been calculated.  The first figure shows the oscillogram and spectrogram of the sound.  The red bold line on the oscillogram is the amplitude enveloppe.  The black bold line on the spectrogram is the estimated fundamental frequency. The purple bold line on the spectrogram is the estimated fundamental frequency of a second voice (when it exists). The red, white and blue bold lines on the specrogram are the estimated first, second and third formants (F1, F2, F3).  The second figure is a power spectrum. The black dotted lines show the quartiles.  The red, light blue and dark blue dotted lines are the time average values of F1,F2, F3. The third figure shows the values of other BioSound parameters.  The fourth figure shows the modulation power spectrum.\n",
    "The calculations last approximately 1 minute for a 1 second sound on 2.7 GHz Intel Core i7.  The slowest routine is the fundamental estimator. "
   ]
  },
  {
   "cell_type": "code",
   "execution_count": 3,
   "metadata": {},
   "outputs": [
    {
     "name": "stdout",
     "output_type": "stream",
     "text": [
      "Processing sound 2469:F65696_Saline_DeSa_200124_1013_voc_1_70893086.wav_Bat65696_AL46_Elmt1_Piezo.wav\n",
      "\n",
      "Processing sound 2470:F65696_Saline_DeSa_200124_1013_voc_1_70893086.wav_Bat65696_AL46_Elmt2_Piezo.wav\n",
      "\n",
      "Processing sound 2471:F65696_Saline_DeSa_200124_1013_voc_1_75487173.wav_Bat65696_AL46_Elmt1_Piezo.wav\n",
      "\n"
     ]
    }
   ],
   "source": [
    "# Plot flag to decide whether or not to plot output\n",
    "plotMe = True\n",
    "normalize = False\n",
    "\n",
    "# Find all the wave files \n",
    "isound = 0   \n",
    "for fname in os.listdir('.'):\n",
    "    if fname.endswith('.wav'):\n",
    "        isound += 1\n",
    "        # Continue running at sound 2469\n",
    "        if isound > 2468 and isound < 2472:\n",
    "            \n",
    "            # Read the sound file\n",
    "            print ('Processing sound %d:%s\\n' % (isound, fname))\n",
    "            soundIn = WavFile(file_name=fname) \n",
    "            filename, file_extension = os.path.splitext(fname)\n",
    "        \n",
    "        \n",
    "            # Here we parse the filename to get the birdname and the call type. \n",
    "            # You will have to write custom code to extract your own identifiers.\n",
    "            birdname = filename[0:6]\n",
    "            calltype = filename[7:9]\n",
    "        \n",
    "            # Normalize if wanted\n",
    "            if normalize :\n",
    "                maxAmp = np.abs(soundIn.data).max() \n",
    "            else :\n",
    "                maxAmp = 1.0\n",
    "    \n",
    "    # Create BioSound Object\n",
    "            myBioSound = BioSound(soundWave=soundIn.data.astype(float)/maxAmp, fs=float(soundIn.sample_rate), emitter=birdname, calltype = calltype)\n",
    "             \n",
    "    # Calculate the spectrogram and the rms\n",
    "            myBioSound.spectroCalc(spec_sample_rate=1000, freq_spacing = 100, min_freq=300, max_freq=10000)\n",
    "            myBioSound.rms = myBioSound.sound.std() \n",
    "       \n",
    "    # Calculate amplitude enveloppe\n",
    "            myBioSound.ampenv(cutoff_freq = 150, amp_sample_rate = 1000)\n",
    "       \n",
    "    # Calculate the power spectrum\n",
    "            myBioSound.spectrum(f_high=10000)\n",
    "    \n",
    "    # Calculate fundamental and related values.  These are the default values.\n",
    "    # For the estimation of the fundamental, four methods are available: \n",
    "    # 'AC' - Peak of the auto-correlation function\n",
    "    # 'ACA' - Peak of envelope of auto-correlation function \n",
    "    # 'Cep' - First peak in cepstrum \n",
    "    # 'Stack' - Fitting of harmonic stacks (default - works well for zebra finches)\n",
    "    \n",
    "            myBioSound.fundest(maxFund = 4000, minFund = 50, lowFc = 50, highFc = 18000, \n",
    "                           minSaliency = 0.5, debugFig = 0, \n",
    "                           minFormantFreq = 2000, maxFormantBW = 1000, windowFormant = 0.1,\n",
    "                           method='Stack')\n",
    "      \n",
    "    # Calculate the MPS\n",
    "            myBioSound.mpsCalc(window=0.1, Norm = True)\n",
    "                \n",
    "            if plotMe and isound <= 10: \n",
    "                print('++++++++++++++++++++++++++++++++++++++++++++++++++++++++++++++++++++++++')\n",
    "                print('                Bird %s    Call Type %s' % (myBioSound.emitter, myBioSound.type))\n",
    "                myBioSound.plot(DBNOISE=60, f_low=200, f_high=10000)  \n",
    "                print('++++++++++++++++++++++++++++++++++++++++++++++++++++++++++++++++++++++++')\n",
    "\n",
    "    # Save the results\n",
    "            fh5name = 'h5files/%s.h5' % (filename)\n",
    "            myBioSound.saveh5(fh5name)"
   ]
  },
  {
   "cell_type": "code",
   "execution_count": null,
   "metadata": {},
   "outputs": [],
   "source": []
  }
 ],
 "metadata": {
  "kernelspec": {
   "display_name": "Python 3 (ipykernel)",
   "language": "python",
   "name": "python3"
  },
  "language_info": {
   "codemirror_mode": {
    "name": "ipython",
    "version": 3
   },
   "file_extension": ".py",
   "mimetype": "text/x-python",
   "name": "python",
   "nbconvert_exporter": "python",
   "pygments_lexer": "ipython3",
   "version": "3.7.1"
  }
 },
 "nbformat": 4,
 "nbformat_minor": 2
}
